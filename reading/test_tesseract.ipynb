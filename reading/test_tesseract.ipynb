{
 "cells": [
  {
   "cell_type": "code",
   "execution_count": 2,
   "metadata": {},
   "outputs": [],
   "source": [
    "import cv2\n",
    "import pytesseract\n",
    "import time"
   ]
  },
  {
   "cell_type": "code",
   "execution_count": 35,
   "metadata": {},
   "outputs": [
    {
     "name": "stdout",
     "output_type": "stream",
     "text": [
      "Sarted benchmarking...\n",
      "8.300001382827759 seconds\n",
      "83 ms per image. (12 fps)\n"
     ]
    }
   ],
   "source": [
    "# Set the path to the Tesseract executable (change this to your Tesseract installation path)\n",
    "#pytesseract.pytesseract.tesseract_cmd = r'C:\\Program Files\\Tesseract-OCR\\tesseract.exe'\n",
    "\n",
    "# Use pytesseract to extract text with custom configuration\n",
    "# --oem 3 for default LSTM OCR Engine\n",
    "# --psm 6 for single block of text (fastest)\n",
    "custom_config = r'--oem 3 --psm 6'\n",
    "\n",
    "start = time.time()\n",
    "print(\"Sarted benchmarking...\")\n",
    "\n",
    "nb_images = 100\n",
    "\n",
    "for i in range(nb_images):\n",
    "    # Read the image\n",
    "    image = cv2.imread('ex1.png')\n",
    "\n",
    "    # Convert the cropped image to grayscale\n",
    "    gray = cv2.cvtColor(image, cv2.COLOR_BGR2GRAY)\n",
    "\n",
    "    # Apply any additional preprocessing steps if needed (e.g., thresholding, blurring)\n",
    "\n",
    "    text = pytesseract.image_to_string(image, config=custom_config)\n",
    "\n",
    "    #print(\"Extracted text:\", text)\n",
    "\n",
    "\n",
    "end = time.time()\n",
    "elapsed = end - start\n",
    "ms_per_image = int(1000 * elapsed / nb_images)\n",
    "average_fps = int(nb_images / elapsed)\n",
    "print(f\"{elapsed} seconds\")\n",
    "print(f\"{ms_per_image} ms per image. ({average_fps} fps)\")"
   ]
  },
  {
   "cell_type": "code",
   "execution_count": null,
   "metadata": {},
   "outputs": [],
   "source": []
  }
 ],
 "metadata": {
  "kernelspec": {
   "display_name": "Python 3",
   "language": "python",
   "name": "python3"
  },
  "language_info": {
   "codemirror_mode": {
    "name": "ipython",
    "version": 3
   },
   "file_extension": ".py",
   "mimetype": "text/x-python",
   "name": "python",
   "nbconvert_exporter": "python",
   "pygments_lexer": "ipython3",
   "version": "3.9.16"
  }
 },
 "nbformat": 4,
 "nbformat_minor": 2
}
