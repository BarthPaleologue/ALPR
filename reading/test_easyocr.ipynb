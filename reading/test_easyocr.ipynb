{
 "cells": [
  {
   "cell_type": "code",
   "execution_count": 2,
   "metadata": {},
   "outputs": [],
   "source": [
    "import easyocr\n",
    "import time"
   ]
  },
  {
   "cell_type": "code",
   "execution_count": 14,
   "metadata": {},
   "outputs": [
    {
     "name": "stderr",
     "output_type": "stream",
     "text": [
      "Neither CUDA nor MPS are available - defaulting to CPU. Note: This module is much faster with a GPU.\n"
     ]
    },
    {
     "name": "stdout",
     "output_type": "stream",
     "text": [
      "Sarted benchmarking...\n",
      "1.8720579147338867 seconds\n",
      "18 ms per image. (53 fps)\n",
      "['FQH15B08872', 'FQH15B08872', 'FQH15B08872', 'FQH15B08872', 'FQH15B08872', 'FQH15B08872', 'FQH15B08872', 'FQH15B08872', 'FQH15B08872', 'FQH15B08872', 'FQH15B08872', 'FQH15B08872', 'FQH15B08872', 'FQH15B08872', 'FQH15B08872', 'FQH15B08872', 'FQH15B08872', 'FQH15B08872', 'FQH15B08872', 'FQH15B08872', 'FQH15B08872', 'FQH15B08872', 'FQH15B08872', 'FQH15B08872', 'FQH15B08872', 'FQH15B08872', 'FQH15B08872', 'FQH15B08872', 'FQH15B08872', 'FQH15B08872', 'FQH15B08872', 'FQH15B08872', 'FQH15B08872', 'FQH15B08872', 'FQH15B08872', 'FQH15B08872', 'FQH15B08872', 'FQH15B08872', 'FQH15B08872', 'FQH15B08872', 'FQH15B08872', 'FQH15B08872', 'FQH15B08872', 'FQH15B08872', 'FQH15B08872', 'FQH15B08872', 'FQH15B08872', 'FQH15B08872', 'FQH15B08872', 'FQH15B08872', 'FQH15B08872', 'FQH15B08872', 'FQH15B08872', 'FQH15B08872', 'FQH15B08872', 'FQH15B08872', 'FQH15B08872', 'FQH15B08872', 'FQH15B08872', 'FQH15B08872', 'FQH15B08872', 'FQH15B08872', 'FQH15B08872', 'FQH15B08872', 'FQH15B08872', 'FQH15B08872', 'FQH15B08872', 'FQH15B08872', 'FQH15B08872', 'FQH15B08872', 'FQH15B08872', 'FQH15B08872', 'FQH15B08872', 'FQH15B08872', 'FQH15B08872', 'FQH15B08872', 'FQH15B08872', 'FQH15B08872', 'FQH15B08872', 'FQH15B08872', 'FQH15B08872', 'FQH15B08872', 'FQH15B08872', 'FQH15B08872', 'FQH15B08872', 'FQH15B08872', 'FQH15B08872', 'FQH15B08872', 'FQH15B08872', 'FQH15B08872', 'FQH15B08872', 'FQH15B08872', 'FQH15B08872', 'FQH15B08872', 'FQH15B08872', 'FQH15B08872', 'FQH15B08872', 'FQH15B08872', 'FQH15B08872', 'FQH15B08872']\n"
     ]
    }
   ],
   "source": [
    "# Create an OCR reader\n",
    "reader = easyocr.Reader(['en'])\n",
    "\n",
    "nb_images = 100\n",
    "plateReadings = []\n",
    "\n",
    "allowed_chars = \"ABCDEFGHIJKLMNOPQRSTUVWXYZ0123456789\"\n",
    "\n",
    "start = time.time()\n",
    "print(\"Sarted benchmarking...\")\n",
    "\n",
    "for i in range(nb_images):\n",
    "    # Read the image\n",
    "\n",
    "    # Load an image\n",
    "    image_path = 'ex4.png'\n",
    "\n",
    "    # Perform OCR on the image\n",
    "    # greater batch_size = greater speed but more RAM usage\n",
    "    # results = reader.readtext(image_path, batch_size=5, allowlist=allowed_chars, detail=0)\n",
    "    results = reader.recognize(image_path, batch_size=5, allowlist=allowed_chars, detail=0)\n",
    "\n",
    "    plateReadings.append(results[0])\n",
    "\n",
    "    # Print the extracted text\n",
    "    #for detection in results:\n",
    "    #    print(detection[1])  # The extracted text\n",
    "\n",
    "\n",
    "end = time.time()\n",
    "elapsed = end - start\n",
    "ms_per_image = int(1000 * elapsed / nb_images)\n",
    "average_fps = int(nb_images / elapsed)\n",
    "print(f\"{elapsed} seconds\")\n",
    "print(f\"{ms_per_image} ms per image. ({average_fps} fps)\")\n",
    "\n",
    "print(plateReadings)"
   ]
  },
  {
   "cell_type": "code",
   "execution_count": null,
   "metadata": {},
   "outputs": [],
   "source": []
  }
 ],
 "metadata": {
  "kernelspec": {
   "display_name": "Python 3",
   "language": "python",
   "name": "python3"
  },
  "language_info": {
   "codemirror_mode": {
    "name": "ipython",
    "version": 3
   },
   "file_extension": ".py",
   "mimetype": "text/x-python",
   "name": "python",
   "nbconvert_exporter": "python",
   "pygments_lexer": "ipython3",
   "version": "3.9.16"
  }
 },
 "nbformat": 4,
 "nbformat_minor": 2
}
