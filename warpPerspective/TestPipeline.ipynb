{
 "cells": [
  {
   "cell_type": "code",
   "execution_count": null,
   "metadata": {},
   "outputs": [],
   "source": [
    "import os\n",
    "import sys\n",
    "import numpy as np\n",
    "\n",
    "import matplotlib as mpl\n",
    "import matplotlib.pyplot as plt\n",
    "import matplotlib.patches as patches\n",
    "\n",
    "import cv2 as cv\n",
    "\n",
    "# custom lib\n",
    "from inspect import getsourcefile\n",
    "import os.path as path, sys\n",
    "sys.path.insert(0, \"..\")\n",
    "from alprLib.Yolo import Yolo\n",
    "from alprLib.TextOCR import Reader\n",
    "from alprLib.Perspective import platePerspectiveUnwarpingWithWhite\n",
    "from alprLib.Perspective import platePerspectiveUnwarpingWithSuperPixel\n",
    "from alprLib.Perspective import platePerspectiveUnwarping\n",
    "sys.path.pop(0)\n"
   ]
  },
  {
   "cell_type": "code",
   "execution_count": null,
   "metadata": {},
   "outputs": [],
   "source": [
    "def clear_output(wait=False):\n",
    "    from IPython.core.interactiveshell import InteractiveShell\n",
    "    if InteractiveShell.initialized():\n",
    "        InteractiveShell.instance().display_pub.clear_output(wait)\n",
    "    else:\n",
    "        print('\\033[2K\\r', end='')\n",
    "        sys.stdout.flush()\n",
    "        print('\\033[2K\\r', end='')\n",
    "        sys.stderr.flush()"
   ]
  },
  {
   "cell_type": "markdown",
   "metadata": {},
   "source": [
    "# Video"
   ]
  },
  {
   "cell_type": "markdown",
   "metadata": {},
   "source": [
    "#### Process video file"
   ]
  },
  {
   "cell_type": "code",
   "execution_count": null,
   "metadata": {},
   "outputs": [],
   "source": [
    "video_path = \"video1.mp4\"\n",
    "\n",
    "if not os.path.exists('output'):\n",
    "    os.makedirs('output')\n",
    "if not os.path.exists('output/images'):\n",
    "    os.makedirs('output/images')\n",
    "\n",
    "count = -1\n",
    "video_capture = cv.VideoCapture(video_path)\n",
    "\n",
    "yolo = Yolo()\n",
    "# reader = Reader()\n",
    "\n",
    "while(True):\n",
    "    # Read frame\n",
    "    ret, frame = video_capture.read()\n",
    "    if(frame is None): break\n",
    "    count +=1\n",
    "\n",
    "    if count % 1==0: # Skip some frames\n",
    "        # Clear result output\n",
    "        clear_output(wait=True)\n",
    "\n",
    "        # Process frame\n",
    "        bboxes = yolo.find_bboxes(frame)\n",
    "        rects = []\n",
    "        corrections = []\n",
    "        for bbox in bboxes:\n",
    "            rect = patches.Rectangle(\n",
    "                (bbox[0], bbox[1]),\n",
    "                bbox[2], bbox[3],\n",
    "                linewidth=1, edgecolor='r', facecolor='none')\n",
    "            rects.append(rect)\n",
    "\n",
    "            plate = [\n",
    "                bbox[0], bbox[1],\n",
    "                bbox[0]+bbox[2], bbox[1]+bbox[3]\n",
    "            ]\n",
    "\n",
    "            # corrected = platePerspectiveUnwarpingWithWhite(\n",
    "            # \tframe,\n",
    "            #     plate[0], plate[1], plate[2], plate[3],\n",
    "            # )\n",
    "            corrected = platePerspectiveUnwarpingWithSuperPixel(\n",
    "              frame, plate[0], plate[1], plate[2], plate[3],\n",
    "              plate_padding = 15,\n",
    "              main_color = np.array([200,200,200]),\n",
    "              color_dist = 150\n",
    "            )\n",
    "            # corrected = platePerspectiveUnwarping(\n",
    "            #     frame, plate[0], plate[1], plate[2], plate[3],\n",
    "            #     plate_padding=15\n",
    "            # )\n",
    "            corrections.append(corrected)\n",
    "\n",
    "        # Plot frame\n",
    "        fig = plt.figure(figsize=(18, 18*frame.shape[0]/frame.shape[1]))\n",
    "\n",
    "        ax0 = fig.add_subplot(111, aspect='equal')\n",
    "        ax0.axis('off')\n",
    "\n",
    "        ax0.imshow(cv.cvtColor(frame, cv.COLOR_BGR2RGB))\n",
    "        for i, rect in enumerate(rects):\n",
    "            ax0.add_patch(rect)\n",
    "        for i, rect in enumerate(rects):\n",
    "            ax1 = fig.add_subplot(1,5,i+1)\n",
    "            ax1.axis('off')\n",
    "            ax1.imshow(corrections[i])\n",
    "\n",
    "        # Save the frame\n",
    "        plt.savefig(os.path.join('output', 'images', str(count).zfill(6) + '.png'))\n",
    "        plt.show()\n",
    "\n"
   ]
  },
  {
   "cell_type": "markdown",
   "metadata": {},
   "source": [
    "#### Save output video"
   ]
  },
  {
   "cell_type": "code",
   "execution_count": null,
   "metadata": {},
   "outputs": [],
   "source": [
    "\n",
    "image_folder = os.path.join('output', 'images')\n",
    "video_name = os.path.join('output','output-video.avi')\n",
    "\n",
    "images = [img for img in sorted(os.listdir(image_folder)) if img.endswith(\".png\")]\n",
    "frame = cv.imread(os.path.join(image_folder, images[0]))\n",
    "height, width, layers = frame.shape\n",
    "\n",
    "video = cv.VideoWriter(video_name, 0, 30, (width,height))\n",
    "\n",
    "for image in images:\n",
    "    video.write(cv.imread(os.path.join(image_folder, image)))\n",
    "\n",
    "video.release()\n"
   ]
  }
 ],
 "metadata": {
  "kernelspec": {
   "display_name": "base",
   "language": "python",
   "name": "python3"
  },
  "language_info": {
   "codemirror_mode": {
    "name": "ipython",
    "version": 3
   },
   "file_extension": ".py",
   "mimetype": "text/x-python",
   "name": "python",
   "nbconvert_exporter": "python",
   "pygments_lexer": "ipython3",
   "version": "3.9.12"
  }
 },
 "nbformat": 4,
 "nbformat_minor": 2
}
